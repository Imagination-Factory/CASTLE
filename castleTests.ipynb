{
 "cells": [
  {
   "cell_type": "markdown",
   "metadata": {},
   "source": [
    "<h2>TESTING\n",
    " Functionality of CASTLE</h2>\n",
    " <i>Please be aware of the fact that in order to test the functionality corrctly it may be needed to re-run the whole\n",
    " notebook because it can be that otherwise the non-ks-anonymized clusters persist in memory of previous insertions\n",
    " which is in reality not the case. Thanks. :) </i>"
   ]
  },
  {
   "source": [
    "# import own sub modules\n",
    "from subfunctions.clusterVisualization import printCluster\n",
    "\n",
    "# Setup\n",
    "def start_CASTLE_script():\n",
    "    %run CASTLE_streaming_anonymization"
   ],
   "cell_type": "code",
   "metadata": {},
   "execution_count": null,
   "outputs": []
  },
  {
   "cell_type": "code",
   "execution_count": null,
   "metadata": {},
   "outputs": [],
   "source": [
    "\n",
    "def testing():\n",
    "    reset_environment()\n",
    "\n",
    "    # \"streaming\" the first tuples to the CASTLE anonymization function\n",
    "\n",
    "    for x in range(100): # do for 0..99\n",
    "        # get data from sample MAC list input\n",
    "        get_tuple = df.iloc[x]\n",
    "        get_tuple[\"index\"] = x\n",
    "        print(\"+++++++++++ We give the CASTLE algorithm the next tuple (\", x, \") +++++++++++++++\")\n",
    "        # call CASTLE main function\n",
    "        CASTLE_main(get_tuple, k=2, delay_counts=5, tau_param=0.2, betha= 5000, my=5)\n",
    "\n",
    "    # output non-ks-clusters\n",
    "    print(\"--> --> --> --> --> --> --> CASTLE rounds are over --> --> --> --> --> --> -->\")\n",
    "    print(\"--> Output the non-ks-clusters in memory: \\n\", printCluster(clusters_to_output=non_ks_clusters))\n",
    "    print(\"--> Output the ks-clusters reusable: \\n\", printCluster(clusters_to_output=ks_clusters))\n",
    "    print(\"Number of non-ks-clusters (not yet outputted): \" + str(len(non_ks_clusters)))\n",
    "    print(\"Number of re-usuable ks-clusters outputted: \" + str(len(ks_clusters)))\n"
   ]
  },
  {
   "cell_type": "code",
   "execution_count": null,
   "metadata": {},
   "outputs": [],
   "source": [
    "testing()"
   ]
  }
 ],
 "metadata": {
  "kernelspec": {
   "display_name": "Python 3",
   "language": "python",
   "name": "python3"
  },
  "language_info": {
   "codemirror_mode": {
    "name": "ipython",
    "version": 3
   },
   "file_extension": ".py",
   "mimetype": "text/x-python",
   "name": "python",
   "nbconvert_exporter": "python",
   "pygments_lexer": "ipython3",
   "version": "3.7.1"
  }
 },
 "nbformat": 4,
 "nbformat_minor": 2
}